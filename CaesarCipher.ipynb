{
 "cells": [
  {
   "cell_type": "code",
   "execution_count": 1,
   "id": "7e076fda-20a3-4022-a4d9-475627cd7e87",
   "metadata": {},
   "outputs": [],
   "source": [
    "with open(\"hello.txt\",\"r\")as f:\n",
    "    content=f.read()"
   ]
  },
  {
   "cell_type": "code",
   "execution_count": 2,
   "id": "2d817dc5-485d-4173-aabf-548ae9b7a146",
   "metadata": {},
   "outputs": [
    {
     "data": {
      "text/plain": [
       "'l'"
      ]
     },
     "execution_count": 2,
     "metadata": {},
     "output_type": "execute_result"
    }
   ],
   "source": [
    "content"
   ]
  },
  {
   "cell_type": "code",
   "execution_count": 3,
   "id": "b94bb4f8-f128-4229-a21f-b1c086881b2f",
   "metadata": {},
   "outputs": [
    {
     "name": "stdin",
     "output_type": "stream",
     "text": [
      "Enter the key:  3\n"
     ]
    }
   ],
   "source": [
    "key=int(input(\"Enter the key: \"))"
   ]
  },
  {
   "cell_type": "code",
   "execution_count": 4,
   "id": "f36edb01-8732-4f89-bb4a-42d2d7cec9fc",
   "metadata": {},
   "outputs": [],
   "source": [
    "def encrypt():\n",
    "    enc=\"\"\n",
    "    for ch in content:\n",
    "        if ch.isupper():\n",
    "            enc+=chr(ord('A')+(ord(ch)-ord('A')+key)%26)\n",
    "        elif ch.islower():\n",
    "            enc+=chr(ord('a')+(ord(ch)-ord('a')+key)%26)\n",
    "        return enc"
   ]
  },
  {
   "cell_type": "code",
   "execution_count": 5,
   "id": "b526ee5b-671d-4bb9-bce4-8078f898c0b5",
   "metadata": {},
   "outputs": [],
   "source": [
    "with open(\"Hello.txt\",'w')as f:\n",
    "    f.write(encrypt())"
   ]
  },
  {
   "cell_type": "code",
   "execution_count": 6,
   "id": "b4af43eb-7ccd-48a4-8265-d81b44944731",
   "metadata": {},
   "outputs": [],
   "source": [
    "def decrypt():\n",
    "    dec=\"\"\n",
    "    for ch in content:\n",
    "        if ch.isupper():\n",
    "            dec+=chr(ord('A')+(ord(ch)-ord('A')-key)%26)\n",
    "        elif ch.lower():\n",
    "            dec+=chr(ord('a')+(ord(ch)-ord('a')-key)%26)\n",
    "    return dec\n",
    "    "
   ]
  },
  {
   "cell_type": "code",
   "execution_count": 7,
   "id": "8ffa93fe-a7aa-4a0e-981f-55cd6918cc56",
   "metadata": {},
   "outputs": [],
   "source": [
    "with open(\"hello.txt\",'r') as f:\n",
    "    content=f.read()"
   ]
  },
  {
   "cell_type": "code",
   "execution_count": 8,
   "id": "20da1e5b-bd61-4687-8cc2-3e999737979b",
   "metadata": {},
   "outputs": [
    {
     "name": "stdout",
     "output_type": "stream",
     "text": [
      "l\n"
     ]
    }
   ],
   "source": [
    "print(decrypt())"
   ]
  },
  {
   "cell_type": "code",
   "execution_count": null,
   "id": "e55b3352-1a36-4d2d-9846-ae1cca2b1201",
   "metadata": {},
   "outputs": [],
   "source": []
  }
 ],
 "metadata": {
  "kernelspec": {
   "display_name": "Python 3 (ipykernel)",
   "language": "python",
   "name": "python3"
  },
  "language_info": {
   "codemirror_mode": {
    "name": "ipython",
    "version": 3
   },
   "file_extension": ".py",
   "mimetype": "text/x-python",
   "name": "python",
   "nbconvert_exporter": "python",
   "pygments_lexer": "ipython3",
   "version": "3.12.2"
  }
 },
 "nbformat": 4,
 "nbformat_minor": 5
}
