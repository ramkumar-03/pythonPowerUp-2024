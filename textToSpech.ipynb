{
 "cells": [
  {
   "cell_type": "code",
   "execution_count": 1,
   "id": "7614b6dc-1ebe-4453-86fc-5cbd3f0c8e32",
   "metadata": {},
   "outputs": [],
   "source": [
    "import pyttsx3"
   ]
  },
  {
   "cell_type": "code",
   "execution_count": 2,
   "id": "428ebfb8-8ca2-445d-9aca-3ddafa6339c5",
   "metadata": {},
   "outputs": [],
   "source": [
    "jarvis=pyttsx3.init()"
   ]
  },
  {
   "cell_type": "code",
   "execution_count": 3,
   "id": "1a4e2ba4-8f0b-41c8-828c-1214f13ba1ac",
   "metadata": {},
   "outputs": [],
   "source": [
    "jarvis.say(\"Hello Omar\")\n",
    "jarvis.runAndWait()"
   ]
  },
  {
   "cell_type": "code",
   "execution_count": 4,
   "id": "e5bf7d18-347b-45c6-9c05-0c8973521f9d",
   "metadata": {},
   "outputs": [],
   "source": [
    "voices=jarvis.getProperty(\"voices\")"
   ]
  },
  {
   "cell_type": "code",
   "execution_count": 5,
   "id": "fa9373f7-974d-41f5-a2e6-bafc0cfff119",
   "metadata": {},
   "outputs": [
    {
     "data": {
      "text/plain": [
       "[<pyttsx3.voice.Voice at 0x23ba7dddc70>,\n",
       " <pyttsx3.voice.Voice at 0x23ba8033530>]"
      ]
     },
     "execution_count": 5,
     "metadata": {},
     "output_type": "execute_result"
    }
   ],
   "source": [
    "voices\n"
   ]
  },
  {
   "cell_type": "code",
   "execution_count": 6,
   "id": "2a05bd2d-21fb-4d7e-8743-d3a1dadabbe5",
   "metadata": {},
   "outputs": [],
   "source": [
    "jarvis.setProperty(\"voice\",voices[1].id)"
   ]
  },
  {
   "cell_type": "code",
   "execution_count": 7,
   "id": "915dcc2f-81b8-4f8d-bd2c-aa599d22074e",
   "metadata": {},
   "outputs": [],
   "source": [
    "jarvis.say(\"boxed u like a fish\")\n",
    "jarvis.runAndWait()"
   ]
  },
  {
   "cell_type": "code",
   "execution_count": 8,
   "id": "38301920-5a0f-415c-b87e-79ef5f9ac8df",
   "metadata": {},
   "outputs": [],
   "source": [
    "jarvis.setProperty(\"rate\",100)\n",
    "jarvis.say(\"boxed u like a fish\")\n",
    "jarvis.runAndWait()"
   ]
  },
  {
   "cell_type": "code",
   "execution_count": 9,
   "id": "1e102540-a2f2-4fbe-8f40-4a9a9d900743",
   "metadata": {},
   "outputs": [],
   "source": [
    "jarvis.setProperty(\"volume\",.5)\n",
    "jarvis.say(\"boxed u like a fish\")\n",
    "jarvis.runAndWait()"
   ]
  },
  {
   "cell_type": "code",
   "execution_count": 10,
   "id": "146bc120-5b9d-4987-824b-8764af14f48d",
   "metadata": {},
   "outputs": [],
   "source": [
    "API_KEY=\"b3f06dbfdd5145e99c760727242303\"\n",
    "CITY_NAME=\"Arcot\""
   ]
  },
  {
   "cell_type": "code",
   "execution_count": 11,
   "id": "7d1d7e7e-62e1-4841-a320-b20edc3da784",
   "metadata": {},
   "outputs": [],
   "source": [
    "jarvis.setProperty(\"volume\",1)\n",
    "jarvis.say(\"yo whats up nigga\")\n",
    "jarvis.runAndWait()"
   ]
  },
  {
   "cell_type": "code",
   "execution_count": 15,
   "id": "17027630-b916-4eb9-a186-3f5a3fc87ead",
   "metadata": {},
   "outputs": [],
   "source": [
    "BASE_URL=f'http://api.weatherapi.com/v1/current.json?key=b3f06dbfdd5145e99c760727242303&q=Arcot&aqi=no'"
   ]
  },
  {
   "cell_type": "code",
   "execution_count": 13,
   "id": "77305b35-9710-4816-99da-1c06c4da11cc",
   "metadata": {},
   "outputs": [],
   "source": [
    "import requests"
   ]
  },
  {
   "cell_type": "code",
   "execution_count": 16,
   "id": "2e410f7e-03fb-4f4e-9395-ba8509f87005",
   "metadata": {},
   "outputs": [
    {
     "data": {
      "text/plain": [
       "{'location': {'name': 'Arcot',\n",
       "  'region': 'Tamil Nadu',\n",
       "  'country': 'India',\n",
       "  'lat': 12.9,\n",
       "  'lon': 79.33,\n",
       "  'tz_id': 'Asia/Kolkata',\n",
       "  'localtime_epoch': 1711174694,\n",
       "  'localtime': '2024-03-23 11:48'},\n",
       " 'current': {'last_updated_epoch': 1711174500,\n",
       "  'last_updated': '2024-03-23 11:45',\n",
       "  'temp_c': 33.0,\n",
       "  'temp_f': 91.3,\n",
       "  'is_day': 1,\n",
       "  'condition': {'text': 'Sunny',\n",
       "   'icon': '//cdn.weatherapi.com/weather/64x64/day/113.png',\n",
       "   'code': 1000},\n",
       "  'wind_mph': 7.8,\n",
       "  'wind_kph': 12.6,\n",
       "  'wind_degree': 138,\n",
       "  'wind_dir': 'SE',\n",
       "  'pressure_mb': 1010.0,\n",
       "  'pressure_in': 29.83,\n",
       "  'precip_mm': 0.0,\n",
       "  'precip_in': 0.0,\n",
       "  'humidity': 33,\n",
       "  'cloud': 0,\n",
       "  'feelslike_c': 33.0,\n",
       "  'feelslike_f': 91.4,\n",
       "  'vis_km': 10.0,\n",
       "  'vis_miles': 6.0,\n",
       "  'uv': 8.0,\n",
       "  'gust_mph': 9.0,\n",
       "  'gust_kph': 14.5}}"
      ]
     },
     "execution_count": 16,
     "metadata": {},
     "output_type": "execute_result"
    }
   ],
   "source": [
    "response=requests.get(BASE_URL).json()\n",
    "response"
   ]
  },
  {
   "cell_type": "code",
   "execution_count": 20,
   "id": "189d6858-c0c6-4c51-88cf-edf902e662be",
   "metadata": {},
   "outputs": [],
   "source": [
    "temperature =response['current']['temp_c']\n",
    "humidity = response['current']['humidity']\n",
    "description = response['current']['condition']['text']"
   ]
  },
  {
   "cell_type": "code",
   "execution_count": 21,
   "id": "9c51a730-c177-4e3c-9d1a-71255f2b7776",
   "metadata": {},
   "outputs": [],
   "source": [
    "jarvis.say(f\"The temperature in {CITY_NAME} is {temperature} degree celsius and the humidity is {humidity}. The description is {description}\")\n",
    "jarvis.runAndWait()"
   ]
  },
  {
   "cell_type": "code",
   "execution_count": null,
   "id": "9aa480a5-1845-4625-8fb9-6c6e539e54fd",
   "metadata": {},
   "outputs": [],
   "source": []
  }
 ],
 "metadata": {
  "kernelspec": {
   "display_name": "Python 3 (ipykernel)",
   "language": "python",
   "name": "python3"
  },
  "language_info": {
   "codemirror_mode": {
    "name": "ipython",
    "version": 3
   },
   "file_extension": ".py",
   "mimetype": "text/x-python",
   "name": "python",
   "nbconvert_exporter": "python",
   "pygments_lexer": "ipython3",
   "version": "3.12.2"
  }
 },
 "nbformat": 4,
 "nbformat_minor": 5
}
