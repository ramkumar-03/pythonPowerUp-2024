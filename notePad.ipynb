{
 "cells": [
  {
   "cell_type": "code",
   "execution_count": 1,
   "id": "b842b989-8ed0-4cc7-977b-7314c24f3870",
   "metadata": {},
   "outputs": [],
   "source": [
    "import tkinter as tk"
   ]
  },
  {
   "cell_type": "code",
   "execution_count": 2,
   "id": "cda16cb6-df38-4380-9d65-1fc40666962f",
   "metadata": {},
   "outputs": [],
   "source": [
    "from tkinter import filedialog,Text"
   ]
  },
  {
   "cell_type": "code",
   "execution_count": 3,
   "id": "fe91e7d1-2870-4a5d-9005-2a55e21c1ac3",
   "metadata": {},
   "outputs": [],
   "source": [
    "def open_file():\n",
    "    filename = filedialog.askopenfilename()\n",
    "    if filename:\n",
    "        with open(filename, 'r') as f:\n",
    "            content = f.read()\n",
    "            root.text_widget.delete('1.0', \"end\")\n",
    "            root.text_widget.insert('1.0', content)            \n",
    "\n",
    "def new_file():\n",
    "    root.text_widget.delete('1.0', \"end\")\n",
    "    \n",
    "\n",
    "def save_file():\n",
    "    filename = filedialog.asksaveasfilename()\n",
    "    if filename:\n",
    "        with open(filename, 'w') as f:\n",
    "            f.write(root.text_widget.get('1.0', 'end'))"
   ]
  },
  {
   "cell_type": "code",
   "execution_count": null,
   "id": "9c4f94e6-83af-463f-a803-ecaf7a3405a6",
   "metadata": {},
   "outputs": [],
   "source": []
  },
  {
   "cell_type": "code",
   "execution_count": 4,
   "id": "dc258b53-178c-4783-9fd3-5694a9fc0c31",
   "metadata": {},
   "outputs": [],
   "source": [
    "root=tk.Tk()"
   ]
  },
  {
   "cell_type": "code",
   "execution_count": 5,
   "id": "bd248c83-9603-4f5e-b754-1d4dfa09f81e",
   "metadata": {},
   "outputs": [
    {
     "data": {
      "text/plain": [
       "''"
      ]
     },
     "execution_count": 5,
     "metadata": {},
     "output_type": "execute_result"
    }
   ],
   "source": [
    "root.title (\"NotePad\")\n"
   ]
  },
  {
   "cell_type": "code",
   "execution_count": 6,
   "id": "85337e47-dd27-4c8b-b102-e85d58498315",
   "metadata": {},
   "outputs": [
    {
     "data": {
      "text/plain": [
       "''"
      ]
     },
     "execution_count": 6,
     "metadata": {},
     "output_type": "execute_result"
    }
   ],
   "source": [
    "root.geometry(\"600x400\")"
   ]
  },
  {
   "cell_type": "code",
   "execution_count": null,
   "id": "3b663b93-3b86-4b88-b6ef-36d6654cb939",
   "metadata": {},
   "outputs": [],
   "source": []
  },
  {
   "cell_type": "code",
   "execution_count": 7,
   "id": "36539657-8398-4c60-9013-7c1a05186208",
   "metadata": {},
   "outputs": [
    {
     "data": {
      "text/plain": [
       "''"
      ]
     },
     "execution_count": 7,
     "metadata": {},
     "output_type": "execute_result"
    }
   ],
   "source": [
    "root.geometry(\"600x400\")"
   ]
  },
  {
   "cell_type": "code",
   "execution_count": 8,
   "id": "10dc370b-4109-4f15-824c-d00ca4c9c7a3",
   "metadata": {},
   "outputs": [],
   "source": [
    "menubar=tk.Menu()\n",
    "filemenu=tk.Menu(menubar)"
   ]
  },
  {
   "cell_type": "code",
   "execution_count": 9,
   "id": "ca775c8f-da6f-4123-9e98-6f34667f4666",
   "metadata": {},
   "outputs": [],
   "source": [
    "filemenu.add_command(label=\"New\",command=new_file)\n",
    "filemenu.add_command(label=\"Open\",command=open_file)\n",
    "filemenu.add_command(label=\"Save\",command=save_file)\n",
    "filemenu.add_command(label=\"Exit\",command=root.quit)\n",
    "\n",
    "root.config(menu=filemenu)\n",
    "\n",
    "root.text_widget=Text(root)\n",
    "root.text_widget.pack(expand=True,fill=\"both\")"
   ]
  },
  {
   "cell_type": "code",
   "execution_count": 10,
   "id": "175a46e9-bc27-4b33-aac7-c6135a42bb66",
   "metadata": {},
   "outputs": [],
   "source": [
    "root.mainloop()"
   ]
  },
  {
   "cell_type": "code",
   "execution_count": null,
   "id": "237030c7-630e-4fda-9fee-f756377a9595",
   "metadata": {},
   "outputs": [],
   "source": []
  },
  {
   "cell_type": "code",
   "execution_count": null,
   "id": "1fd6da01-b5cf-477e-8ce7-a6119940e7e2",
   "metadata": {},
   "outputs": [],
   "source": []
  }
 ],
 "metadata": {
  "kernelspec": {
   "display_name": "Python 3 (ipykernel)",
   "language": "python",
   "name": "python3"
  },
  "language_info": {
   "codemirror_mode": {
    "name": "ipython",
    "version": 3
   },
   "file_extension": ".py",
   "mimetype": "text/x-python",
   "name": "python",
   "nbconvert_exporter": "python",
   "pygments_lexer": "ipython3",
   "version": "3.12.2"
  }
 },
 "nbformat": 4,
 "nbformat_minor": 5
}
