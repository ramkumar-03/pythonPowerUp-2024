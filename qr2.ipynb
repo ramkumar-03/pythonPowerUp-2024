{
 "cells": [
  {
   "cell_type": "code",
   "execution_count": 1,
   "id": "ff194f77-a36b-4770-8e48-b2669e71f9ae",
   "metadata": {},
   "outputs": [
    {
     "name": "stdout",
     "output_type": "stream",
     "text": [
      "OmarDGrate\n"
     ]
    }
   ],
   "source": [
    "print(\"OmarDGrate\")"
   ]
  },
  {
   "cell_type": "code",
   "execution_count": 2,
   "id": "ca265de4-0f05-4988-9152-3497df08df7b",
   "metadata": {},
   "outputs": [
    {
     "name": "stdin",
     "output_type": "stream",
     "text": [
      "Enter info to store in QR:  https://google.com\n"
     ]
    }
   ],
   "source": [
    "info=input(\"Enter info to store in QR: \")"
   ]
  },
  {
   "cell_type": "code",
   "execution_count": 3,
   "id": "03c413f1-b5ba-4960-9764-79582489056a",
   "metadata": {},
   "outputs": [],
   "source": [
    "import qrcode"
   ]
  },
  {
   "cell_type": "code",
   "execution_count": 4,
   "id": "5608eced-d168-4ad3-94d0-1e172032aee1",
   "metadata": {},
   "outputs": [],
   "source": [
    "img=qrcode.make(info)"
   ]
  },
  {
   "cell_type": "code",
   "execution_count": 5,
   "id": "850dccd0-5a75-4c5c-84b0-965800f73f89",
   "metadata": {},
   "outputs": [
    {
     "data": {
      "image/jpeg": "[encoded data removed]",
      "image/png": "[encoded data removed]",
      "text/plain": [
       "<qrcode.image.pil.PilImage at 0x1ca56d33e00>"
      ]
     },
     "execution_count": 5,
     "metadata": {},
     "output_type": "execute_result"
    }
   ],
   "source": [
    "img\n"
   ]
  },
  {
   "cell_type": "code",
   "execution_count": 6,
   "id": "7ad81b42-ccc1-4397-b22d-04999d9a3a4b",
   "metadata": {},
   "outputs": [],
   "source": [
    "img.save('qr_code.png')"
   ]
  },
  {
   "cell_type": "code",
   "execution_count": 7,
   "id": "0a46855e-3ab5-4fee-84b8-22a0440895b7",
   "metadata": {},
   "outputs": [],
   "source": [
    "import PIL"
   ]
  },
  {
   "cell_type": "code",
   "execution_count": 8,
   "id": "798b2773-32bf-4a5f-8574-699c3e6cb2d5",
   "metadata": {},
   "outputs": [],
   "source": [
    "im=PIL.Image.open('qr_code.png')"
   ]
  },
  {
   "cell_type": "code",
   "execution_count": 9,
   "id": "0cade660-d937-4919-ad95-f8f1fb2871c3",
   "metadata": {},
   "outputs": [],
   "source": [
    "im.show()"
   ]
  },
  {
   "cell_type": "code",
   "execution_count": 15,
   "id": "11aeadf1-ec69-4f30-9ee9-8f16ba9c25f3",
   "metadata": {},
   "outputs": [
    {
     "name": "stdout",
     "output_type": "stream",
     "text": [
      "CHOICES:\n",
      "1>Generate a QR\n",
      "2.Exit\n"
     ]
    },
    {
     "name": "stdin",
     "output_type": "stream",
     "text": [
      "Enter ur choice:  1\n"
     ]
    },
    {
     "name": "stdout",
     "output_type": "stream",
     "text": [
      "QR Code is here:- \n"
     ]
    },
    {
     "name": "stdin",
     "output_type": "stream",
     "text": [
      "Enter the info to store in ur QR www.vit.ac.in\n"
     ]
    }
   ],
   "source": [
    "print (\"CHOICES:\")\n",
    "print(\"1>Generate a QR\")\n",
    "print(\"2.Exit\")\n",
    "ch=input(\"Enter ur choice: \")\n",
    "if ch=='1':\n",
    "    print(\"QR Code is here:- \")\n",
    "    info=input(\"Enter the info to store in ur QR\")\n",
    "    img=qrcode.make(info)\n",
    "    img.save(\"qrCode.png\")\n",
    "    im=PIL.Image.open('qrCode.png')\n",
    "    im.show()\n",
    "elif ch=='2':\n",
    "    print('BYe bye')\n",
    "else:\n",
    "    \n",
    "    print(\"Enter a valid choice:\")"
   ]
  }
 ],
 "metadata": {
  "kernelspec": {
   "display_name": "Python 3 (ipykernel)",
   "language": "python",
   "name": "python3"
  },
  "language_info": {
   "codemirror_mode": {
    "name": "ipython",
    "version": 3
   },
   "file_extension": ".py",
   "mimetype": "text/x-python",
   "name": "python",
   "nbconvert_exporter": "python",
   "pygments_lexer": "ipython3",
   "version": "3.12.2"
  }
 },
 "nbformat": 4,
 "nbformat_minor": 5
}
