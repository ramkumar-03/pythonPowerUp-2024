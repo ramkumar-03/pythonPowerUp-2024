{
 "cells": [
  {
   "cell_type": "code",
   "execution_count": 4,
   "id": "416e3c9b-5bf2-4e59-b882-d31a02694fee",
   "metadata": {},
   "outputs": [],
   "source": [
    "API_KEY=\"b3f06dbfdd5145e99c760727242303\"\n",
    "CITY_NAME=\"Arcot\""
   ]
  },
  {
   "cell_type": "code",
   "execution_count": null,
   "id": "bd73d5ba-65c4-4354-ac74-83d2842f70bf",
   "metadata": {},
   "outputs": [],
   "source": []
  }
 ],
 "metadata": {
  "kernelspec": {
   "display_name": "Python 3 (ipykernel)",
   "language": "python",
   "name": "python3"
  },
  "language_info": {
   "codemirror_mode": {
    "name": "ipython",
    "version": 3
   },
   "file_extension": ".py",
   "mimetype": "text/x-python",
   "name": "python",
   "nbconvert_exporter": "python",
   "pygments_lexer": "ipython3",
   "version": "3.12.2"
  }
 },
 "nbformat": 4,
 "nbformat_minor": 5
}
